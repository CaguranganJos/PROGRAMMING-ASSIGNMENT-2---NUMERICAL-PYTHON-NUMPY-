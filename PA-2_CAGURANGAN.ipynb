{
 "cells": [
  {
   "cell_type": "markdown",
   "id": "f70154c6-8af3-4a1b-bd83-caa3ffe5ee0f",
   "metadata": {},
   "source": [
    "# PA - 2 NUMERICAL PYTHON (NUMPY)"
   ]
  },
  {
   "cell_type": "markdown",
   "id": "a5855b0b-a9cc-4169-9296-4388795537ff",
   "metadata": {},
   "source": [
    "Name: Cagurangan, Jos Kendrick L."
   ]
  },
  {
   "cell_type": "markdown",
   "id": "f3969ea1-e4ef-48a3-a963-808bd61199f9",
   "metadata": {},
   "source": [
    "Section: 2ECE-B"
   ]
  },
  {
   "cell_type": "markdown",
   "id": "170b5c5e-0784-4f43-b67a-db1e95fff36f",
   "metadata": {},
   "source": [
    "#### PA 2.1 NORMALIZATION PROBLEM"
   ]
  },
  {
   "cell_type": "code",
   "execution_count": 1,
   "id": "a050210d-88ab-4849-85e7-0981c4a0b2d2",
   "metadata": {},
   "outputs": [],
   "source": [
    "import numpy as np #First is to import numpy to the code as np to use later.\n",
    "\n",
    "X = np.random.random((5,5)) # Make a random 5x5 ndarray, values ranging from 0 to 1\n",
    "X_mean = X.mean() # Get the mean of the ndarray using .mean*() and store it to X_mean\n",
    "X_std = X.std() # Get the standard deviation of the ndarray using .std() and store it to X_std\n",
    "\n",
    "Z = (X - X_mean)/X_std # Input the formula with respect to Python syntax, use variables X_mean and X_std where the values are stored, and store the normalize value to Z\n",
    "np.save(\"X_normalized.npy\", Z) # Save the Z, normalize value, to file name \"X_normalized.npy\""
   ]
  },
  {
   "cell_type": "markdown",
   "id": "438ffb48-738d-4e8e-8964-af05e605a5d9",
   "metadata": {},
   "source": [
    "#### PA 2.2 DIVISIBLE BY 3 PROBLEM"
   ]
  },
  {
   "cell_type": "code",
   "execution_count": 2,
   "id": "a3f7e9d5-2597-452f-85a5-691d9dea56bd",
   "metadata": {},
   "outputs": [],
   "source": [
    "import numpy as np \n",
    "\n",
    "num = np.arange(1,101) #Making an array consisting of 1-100, the 101 in range is excluded. And store it in num\n",
    "sqr_num = num**2 # Square the values of the array num and store it in sqr_num\n",
    "num_array = sqr_num.reshape(10,10) #Reshape the array num into a 10x10 array\n",
    "div_by_3 = num_array % 3 == 0 #Find the values inside the num_array that are divisible by 3 with no remainders and store the boolean values in div_by_3\n",
    "result = num_array[div_by_3] #extract the boolean values which are true, or those that are divisible by 3 and store it in result\n",
    "np.save(\"div_by_3.npy\", result) #Save the result and name the file \"div_by_3.npy"
   ]
  }
 ],
 "metadata": {
  "kernelspec": {
   "display_name": "Python [conda env:base] *",
   "language": "python",
   "name": "conda-base-py"
  },
  "language_info": {
   "codemirror_mode": {
    "name": "ipython",
    "version": 3
   },
   "file_extension": ".py",
   "mimetype": "text/x-python",
   "name": "python",
   "nbconvert_exporter": "python",
   "pygments_lexer": "ipython3",
   "version": "3.13.5"
  }
 },
 "nbformat": 4,
 "nbformat_minor": 5
}
